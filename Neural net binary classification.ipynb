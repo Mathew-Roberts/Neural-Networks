{
 "cells": [
  {
   "cell_type": "markdown",
   "metadata": {},
   "source": [
    "# Neural Network for Binary Classification"
   ]
  },
  {
   "cell_type": "markdown",
   "metadata": {},
   "source": [
    "Below, I will be training a binary classifier using pytorch. This is a simple example where I train a model to distinguish between an image of a 9 and an image of a 4. Several different variations of a 2 layer network are trained over 80 epochs, I have mainly varied how the weights for the neural network have been initialised by utilising different gaussian distributions.\n",
    "\n",
    "I have also explored the effect of a differing number of neurons in the hidden layer on the classification accuracy of the model."
   ]
  },
  {
   "cell_type": "code",
   "execution_count": 1,
   "metadata": {},
   "outputs": [],
   "source": [
    "%matplotlib inline\n",
    "import torch\n",
    "import torch.nn as nn\n",
    "import torch.optim as optim\n",
    "from torch.autograd import Variable\n",
    "import numpy as np\n",
    "import matplotlib.pyplot as plt\n",
    "%load_ext autoreload\n",
    "%autoreload 2"
   ]
  },
  {
   "cell_type": "code",
   "execution_count": 2,
   "metadata": {},
   "outputs": [],
   "source": [
    "import scipy.io as sio\n",
    "test_x = sio.loadmat('test_x_v7.mat')\n",
    "test_y = sio.loadmat('test_y_v7.mat')\n",
    "train_x = sio.loadmat('train_x_v7.mat')\n",
    "train_y = sio.loadmat('train_y_v7.mat')"
   ]
  },
  {
   "cell_type": "code",
   "execution_count": 3,
   "metadata": {},
   "outputs": [],
   "source": [
    "test_x = torch.from_numpy(test_x['test_x'].T)\n",
    "test_y = torch.from_numpy(test_y['test_y'])\n",
    "train_x = torch.from_numpy(train_x['train_x'].T)\n",
    "train_y = torch.from_numpy(train_y['train_y'])"
   ]
  },
  {
   "cell_type": "markdown",
   "metadata": {},
   "source": [
    "### Creating my Neural Network Class"
   ]
  },
  {
   "cell_type": "code",
   "execution_count": 4,
   "metadata": {},
   "outputs": [],
   "source": [
    "class NeuralNetwork(nn.Module):\n",
    "    \n",
    "    def __init__(self, input_size ,hidden_neurons, output_size, mean = None, std = None, weights_init = False):\n",
    "        super(NeuralNetwork,self).__init__()\n",
    "        \n",
    "        if weights_init is True:\n",
    "            \n",
    "            #Defining the parameters of my neural network\n",
    "            self.linfunc1 = nn.Linear(input_size, hidden_neurons)\n",
    "            self.linfunc2 = nn.Linear(hidden_neurons, output_size)\n",
    "            self.sigmoid_act_func = nn.Sigmoid()\n",
    "\n",
    "\n",
    "            self.linfunc1.weight.data = torch.empty(input_size, hidden_neurons).normal_(mean=mean[0],std=std[0]).T\n",
    "            self.linfunc2.weight.data = torch.empty(hidden_neurons, output_size).normal_(mean=mean[1],std=std[1]).T\n",
    "            self.linfunc1.bias.data = torch.empty(hidden_neurons).normal_(mean=mean[2],std=std[2])\n",
    "            self.linfunc2.bias.data = torch.empty(output_size).normal_(mean=mean[3],std=std[3])\n",
    "            \n",
    "        else:\n",
    "            \n",
    "            #Defining the parameters of my neural network\n",
    "            self.linfunc1 = nn.Linear(input_size, hidden_neurons)\n",
    "            self.linfunc2 = nn.Linear(hidden_neurons, output_size)\n",
    "            self.sigmoid_act_func = nn.Sigmoid()\n",
    "            \n",
    "    \n",
    "    def forward(self,inputs):\n",
    "        output = self.linfunc2(self.sigmoid_act_func(self.linfunc1(inputs)))\n",
    "        return output\n",
    "            "
   ]
  },
  {
   "cell_type": "markdown",
   "metadata": {},
   "source": [
    "## Creating my Training and Evaluation Functions"
   ]
  },
  {
   "cell_type": "markdown",
   "metadata": {},
   "source": [
    "Below is the data used for training and testing the model"
   ]
  },
  {
   "cell_type": "code",
   "execution_count": 5,
   "metadata": {},
   "outputs": [],
   "source": [
    "inputs = [train_x.float(), test_x.float()]\n",
    "targets = [train_y.float(), test_y.float()]"
   ]
  },
  {
   "cell_type": "code",
   "execution_count": 6,
   "metadata": {},
   "outputs": [],
   "source": [
    "def classification_accuracy(true_labels, recovered_labels):\n",
    "    equal_labels = (recovered_labels == true_labels)\n",
    "    return np.mean(equal_labels)"
   ]
  },
  {
   "cell_type": "code",
   "execution_count": 7,
   "metadata": {},
   "outputs": [],
   "source": [
    "def classification_accuracy_for_train(network, data, true_labels):\n",
    "    net = network\n",
    "    net.eval()\n",
    "    recovered_labels = np.where(net(data) > 0.5,1,0)\n",
    "    equal_labels = (recovered_labels == true_labels)\n",
    "    return np.mean(equal_labels)"
   ]
  },
  {
   "cell_type": "code",
   "execution_count": 8,
   "metadata": {},
   "outputs": [],
   "source": [
    "def train(inputs, targets, network, optimiser, loss_function, \\\n",
    "          number_of_epochs = 80, print_output = 1):\n",
    "    \n",
    "    ''' INPUTS AND TARGETS TAKE IN LISTS AS ARGUMENTS. THE FIRST ITEM IS THE TRAIN SET,\n",
    "    THE SECOND IS THE TEST SET\n",
    "    '''\n",
    "    \n",
    "    criterion = loss_function\n",
    "    optims = optimiser(network.parameters(), lr=0.1)\n",
    "    \n",
    "    running_loss = [] \n",
    "    testset_loss = []\n",
    "    \n",
    "    train_accuracy = []\n",
    "    test_accuracy = []\n",
    "    \n",
    "    for counter in range(number_of_epochs):\n",
    "        #Cloning network\n",
    "        net_clone = network\n",
    "        net_clone.eval()\n",
    "        \n",
    "        #zeroing the gradient\n",
    "        optims.zero_grad()\n",
    "        \n",
    "        #Compute model predictions and loss values\n",
    "        outputs = network(inputs[0])\n",
    "        test_outputs = net_clone(inputs[1])\n",
    "        \n",
    "        loss = criterion(outputs, targets[0])\n",
    "        test_loss = criterion(test_outputs, targets[1])\n",
    "        \n",
    "        running_loss.append(loss.item())\n",
    "        testset_loss.append(test_loss.item())\n",
    "        \n",
    "        #Accuracy ...\n",
    "        \n",
    "        train_acc = classification_accuracy_for_train(network, inputs[0], targets[0].numpy())\n",
    "        test_acc = classification_accuracy_for_train(network, inputs[1], targets[1].numpy())\n",
    "        \n",
    "        train_accuracy.append(train_acc)\n",
    "        test_accuracy.append(test_acc)\n",
    "        \n",
    "        #Perform backward pass and a gradient update step\n",
    "        loss.backward()\n",
    "        optims.step()\n",
    "        \n",
    "        if (counter + 1) % print_output == 0: \n",
    "            print('Epoch [%d/%d], Loss: %.4f' \n",
    "                   %(counter + 1, number_of_epochs, running_loss[counter]))\n",
    "\n",
    "    print('Epoch [%d/%d] completed, Loss: %.4f' \n",
    "                   %(counter + 1, number_of_epochs, running_loss[counter]))\n",
    "    \n",
    "    #putting network into its evaluation mode ...\n",
    "    \n",
    "    network.eval()\n",
    "    \n",
    "    return network, running_loss, testset_loss, train_accuracy, test_accuracy"
   ]
  },
  {
   "cell_type": "markdown",
   "metadata": {},
   "source": [
    "Setting the seed ..."
   ]
  },
  {
   "cell_type": "code",
   "execution_count": 9,
   "metadata": {},
   "outputs": [
    {
     "data": {
      "text/plain": [
       "<torch._C.Generator at 0x27130ef8150>"
      ]
     },
     "execution_count": 9,
     "metadata": {},
     "output_type": "execute_result"
    }
   ],
   "source": [
    "torch.manual_seed(20)"
   ]
  },
  {
   "cell_type": "markdown",
   "metadata": {},
   "source": [
    "## Task 1: Initialising weights and biases with random normal distribution"
   ]
  },
  {
   "cell_type": "code",
   "execution_count": 10,
   "metadata": {},
   "outputs": [],
   "source": [
    "neurons = 8\n",
    "input_dim = 784\n",
    "output_dim = 1\n",
    "\n",
    "#RANDOM NORMAL INITIALISATION\n",
    "\n",
    "Net1 = NeuralNetwork(input_dim, neurons, output_dim, mean = [0,0,0,0], std = [1,1,1,1], weights_init = True)\n"
   ]
  },
  {
   "cell_type": "markdown",
   "metadata": {},
   "source": [
    "#### Training my network ..."
   ]
  },
  {
   "cell_type": "code",
   "execution_count": 11,
   "metadata": {},
   "outputs": [
    {
     "name": "stdout",
     "output_type": "stream",
     "text": [
      "Epoch [20/80], Loss: 0.5995\n",
      "Epoch [40/80], Loss: 0.3905\n",
      "Epoch [60/80], Loss: 0.3048\n",
      "Epoch [80/80], Loss: 0.2612\n",
      "Epoch [80/80] completed, Loss: 0.2612\n"
     ]
    }
   ],
   "source": [
    "Net1, Net1_loss, Net1_test_loss, Net1_train_acc, Net1_test_acc = train(inputs, targets, network = Net1, optimiser = optim.SGD,\\\n",
    "                        loss_function = nn.MSELoss(),print_output = 20 )"
   ]
  },
  {
   "cell_type": "markdown",
   "metadata": {},
   "source": [
    "#### Accuracy of Model 1 - N(0,1) initialisation ..."
   ]
  },
  {
   "cell_type": "code",
   "execution_count": 12,
   "metadata": {},
   "outputs": [],
   "source": [
    "predictions = Net1(train_x.float())\n",
    "predictions = np.where(predictions > 0.5, 1,0)\n",
    "true_labels = train_y.numpy()"
   ]
  },
  {
   "cell_type": "code",
   "execution_count": 13,
   "metadata": {},
   "outputs": [
    {
     "name": "stdout",
     "output_type": "stream",
     "text": [
      "The classification accuracy for the training set is 68.359375 %.\n"
     ]
    }
   ],
   "source": [
    "print(\"The classification accuracy for the training set is {p} %.\".format(p = 100 * \\\n",
    "        classification_accuracy(true_labels, predictions)))"
   ]
  },
  {
   "cell_type": "code",
   "execution_count": 14,
   "metadata": {},
   "outputs": [],
   "source": [
    "test_predictions = Net1(test_x.float())\n",
    "test_predictions = np.where(test_predictions > 0.5, 1,0)\n",
    "true_test_labels = test_y.numpy()"
   ]
  },
  {
   "cell_type": "code",
   "execution_count": 15,
   "metadata": {},
   "outputs": [
    {
     "name": "stdout",
     "output_type": "stream",
     "text": [
      "The classification accuracy for the test set is 60.15625 %.\n"
     ]
    }
   ],
   "source": [
    "print(\"The classification accuracy for the test set is {p} %.\".format(p = 100 * \\\n",
    "        classification_accuracy(true_test_labels, test_predictions)))"
   ]
  },
  {
   "cell_type": "markdown",
   "metadata": {},
   "source": [
    "## Task 2 and 3: Creating plots for Error and Accuracy"
   ]
  },
  {
   "cell_type": "code",
   "execution_count": 16,
   "metadata": {},
   "outputs": [],
   "source": [
    "def test_train_visualise(train_loss, test_loss):\n",
    "    plot_fontsize = 14\n",
    "    epochs = np.arange(len(train_loss))\n",
    "    plt.plot(epochs, train_loss, label = 'Training Error', c = 'k')\n",
    "    plt.plot(epochs, test_loss, label = 'Test Error', c = 'red')\n",
    "    plt.xlabel('Number of Epochs', fontsize = plot_fontsize)\n",
    "    plt.ylabel('Error', fontsize = plot_fontsize)\n",
    "    #plt.title('N(0,1) initialised weights, 1 Hidden Layer, 8 Neurons')\n",
    "    plt.legend(loc = 'best', fontsize = plot_fontsize)\n",
    "    plt.show()"
   ]
  },
  {
   "cell_type": "code",
   "execution_count": 17,
   "metadata": {},
   "outputs": [
    {
     "data": {
      "image/png": "[encoded data removed]",
      "text/plain": [
       "<Figure size 432x288 with 1 Axes>"
      ]
     },
     "metadata": {
      "needs_background": "light"
     },
     "output_type": "display_data"
    }
   ],
   "source": [
    "test_train_visualise(Net1_loss, Net1_test_loss)"
   ]
  },
  {
   "cell_type": "code",
   "execution_count": 18,
   "metadata": {},
   "outputs": [],
   "source": [
    "def test_train_acc_visualise(train_acc, test_acc):\n",
    "    plot_fontsize = 14\n",
    "    epochs = np.arange(len(train_acc))\n",
    "    plt.plot(epochs, train_acc, label = 'Training Accuracy', c = 'k')\n",
    "    plt.plot(epochs, test_acc, label = 'Test Accuracy', c = 'red')\n",
    "    plt.xlabel('Number of Epochs', fontsize = plot_fontsize)\n",
    "    plt.ylabel('Accuracy', fontsize = plot_fontsize)\n",
    "    #plt.title('N(0,1) initialised weights, 1 Hidden Layer, 8 Neurons')\n",
    "    plt.legend(loc = 'best', fontsize = plot_fontsize)\n",
    "    plt.show()\n",
    "    "
   ]
  },
  {
   "cell_type": "code",
   "execution_count": 19,
   "metadata": {},
   "outputs": [
    {
     "data": {
      "image/png": "[encoded data removed]",
      "text/plain": [
       "<Figure size 432x288 with 1 Axes>"
      ]
     },
     "metadata": {
      "needs_background": "light"
     },
     "output_type": "display_data"
    }
   ],
   "source": [
    "test_train_acc_visualise(Net1_train_acc,Net1_test_acc)"
   ]
  },
  {
   "cell_type": "code",
   "execution_count": 20,
   "metadata": {},
   "outputs": [],
   "source": [
    "from sklearn import metrics"
   ]
  },
  {
   "cell_type": "code",
   "execution_count": 21,
   "metadata": {},
   "outputs": [
    {
     "name": "stdout",
     "output_type": "stream",
     "text": [
      "The confusion matrix for Net1 is as follows: [[48 16]\n",
      " [35 29]]\n"
     ]
    }
   ],
   "source": [
    "conf_mat_net1 = metrics.confusion_matrix(true_test_labels, test_predictions)\n",
    "print('The confusion matrix for Net1 is as follows: {conf}'.format(conf = conf_mat_net1))"
   ]
  },
  {
   "cell_type": "markdown",
   "metadata": {},
   "source": [
    "## Task 4: Initialise weights with customised distributions"
   ]
  },
  {
   "cell_type": "code",
   "execution_count": 22,
   "metadata": {},
   "outputs": [],
   "source": [
    "#CUSTOM NORMAL INITIALISATION\n",
    "\n",
    "Net3 = NeuralNetwork(input_dim, neurons, output_dim, mean = [0,0,0,0],\\\n",
    "                     std = [1/28, 1/np.sqrt(8), 1/28, 1/np.sqrt(8)], weights_init = True)"
   ]
  },
  {
   "cell_type": "code",
   "execution_count": 23,
   "metadata": {},
   "outputs": [
    {
     "name": "stdout",
     "output_type": "stream",
     "text": [
      "Epoch [20/80], Loss: 0.1375\n",
      "Epoch [40/80], Loss: 0.0825\n",
      "Epoch [60/80], Loss: 0.0599\n",
      "Epoch [80/80], Loss: 0.0511\n",
      "Epoch [80/80] completed, Loss: 0.0511\n"
     ]
    }
   ],
   "source": [
    "Net3, Net3_loss, Net3_test_loss,Net3_train_acc, Net3_test_acc = train(inputs, targets, network = Net3, optimiser = optim.SGD, \\\n",
    "             loss_function = nn.MSELoss(), print_output = 20)"
   ]
  },
  {
   "cell_type": "markdown",
   "metadata": {},
   "source": [
    "#### Accuracy of Model 3 - Custom weights initialisation ..."
   ]
  },
  {
   "cell_type": "code",
   "execution_count": 24,
   "metadata": {},
   "outputs": [],
   "source": [
    "predictions = Net3(train_x.float())\n",
    "predictions = np.where(predictions > 0.5, 1,0)\n",
    "true_labels = train_y.numpy()"
   ]
  },
  {
   "cell_type": "code",
   "execution_count": 25,
   "metadata": {},
   "outputs": [
    {
     "name": "stdout",
     "output_type": "stream",
     "text": [
      "The classification accuracy for the training set is 96.484375 %.\n"
     ]
    }
   ],
   "source": [
    "print(\"The classification accuracy for the training set is {p} %.\".format(p = 100 * \\\n",
    "        classification_accuracy(true_labels, predictions)))"
   ]
  },
  {
   "cell_type": "code",
   "execution_count": 26,
   "metadata": {},
   "outputs": [],
   "source": [
    "test_predictions = Net3(test_x.float())\n",
    "test_predictions = np.where(test_predictions > 0.5, 1,0)\n",
    "true_test_labels = test_y.numpy()"
   ]
  },
  {
   "cell_type": "code",
   "execution_count": 27,
   "metadata": {},
   "outputs": [
    {
     "name": "stdout",
     "output_type": "stream",
     "text": [
      "The classification accuracy for the test set is 95.3125 %.\n"
     ]
    }
   ],
   "source": [
    "print(\"The classification accuracy for the test set is {p} %.\".format(p = 100 * \\\n",
    "        classification_accuracy(true_test_labels, test_predictions)))"
   ]
  },
  {
   "cell_type": "markdown",
   "metadata": {},
   "source": [
    "Error for the training set and the test set ..."
   ]
  },
  {
   "cell_type": "code",
   "execution_count": 28,
   "metadata": {},
   "outputs": [
    {
     "data": {
      "image/png": "[encoded data removed]",
      "text/plain": [
       "<Figure size 432x288 with 1 Axes>"
      ]
     },
     "metadata": {
      "needs_background": "light"
     },
     "output_type": "display_data"
    }
   ],
   "source": [
    "test_train_visualise(Net3_loss, Net3_test_loss)"
   ]
  },
  {
   "cell_type": "markdown",
   "metadata": {},
   "source": [
    "Lets have a look at the accuracy of the training/testing set ..."
   ]
  },
  {
   "cell_type": "code",
   "execution_count": 29,
   "metadata": {},
   "outputs": [
    {
     "data": {
      "image/png": "[encoded data removed]",
      "text/plain": [
       "<Figure size 432x288 with 1 Axes>"
      ]
     },
     "metadata": {
      "needs_background": "light"
     },
     "output_type": "display_data"
    }
   ],
   "source": [
    "test_train_acc_visualise(Net3_train_acc, Net3_test_acc)"
   ]
  },
  {
   "cell_type": "markdown",
   "metadata": {},
   "source": [
    "We achieve a 95.3% accuracy on our test set with this model after 80 epochs. Net1, which was initialised with weights which had an N(0,1) distribution gave a substantially less accuracy score of 60.2%. We may have had to train the model for much longer than 80 epochs in order to achieve similar accuracy values to Net3.\n",
    "\n",
    "However, this may not be the case as the training/testing error graph from  Task 1, suggests that the error had plateaued at a value of around 0.26, whereas Net3's error plateaus at around 0.05. This implies that the intialisation of the weights in Task 1, siginificantly impacts the ability for the neural network to classify correctly."
   ]
  },
  {
   "cell_type": "markdown",
   "metadata": {},
   "source": [
    "We can further plot a confusion matrix to assess the performance of our model. "
   ]
  },
  {
   "cell_type": "code",
   "execution_count": 30,
   "metadata": {},
   "outputs": [
    {
     "name": "stdout",
     "output_type": "stream",
     "text": [
      "The confusion matrix for Net3 is as follows: [[63  1]\n",
      " [ 5 59]]\n"
     ]
    }
   ],
   "source": [
    "conf_mat_net3 = metrics.confusion_matrix(true_test_labels, test_predictions)\n",
    "print('The confusion matrix for Net3 is as follows: {conf}'.format(conf = conf_mat_net3))"
   ]
  },
  {
   "cell_type": "markdown",
   "metadata": {},
   "source": [
    "We can see that the diagonal for the confusion matrix, which detects the true positives and true negatives are much greater than the opposite diagonal which detects the false positives (Type 1 error) and false negatives (Type 2 error). This suggests that our neural network classifies well."
   ]
  },
  {
   "cell_type": "markdown",
   "metadata": {},
   "source": [
    "If we compare this matrix to the confusion matrix generated by Net1, we see that the numbers are more evenly spread across the matrix, we have a much higher occurence of false negatives and false positives in this model.\n",
    "\n",
    "However, what is interesting is that both models have more occurences where the image is a 4, but the model predicts this to be a 9. We can see this by the bottom left number being higher than the top right number in both cases."
   ]
  },
  {
   "cell_type": "code",
   "execution_count": 31,
   "metadata": {},
   "outputs": [
    {
     "data": {
      "text/plain": [
       "array([[48, 16],\n",
       "       [35, 29]], dtype=int64)"
      ]
     },
     "execution_count": 31,
     "metadata": {},
     "output_type": "execute_result"
    }
   ],
   "source": [
    "conf_mat_net1"
   ]
  },
  {
   "cell_type": "markdown",
   "metadata": {},
   "source": [
    "## Task 5: Experimenting with different numbers of neurons in hidden layer"
   ]
  },
  {
   "cell_type": "code",
   "execution_count": 32,
   "metadata": {},
   "outputs": [],
   "source": [
    "#CUSTOM HIDDEN NEURON DIMENSIONS\n",
    "Net4_4n = 0\n",
    "Net4_12n = 0\n",
    "Net4_16n = 0\n",
    "Net4_24n = 0\n",
    "Net4_32n = 0\n",
    "Net4_46n = 0\n",
    "Net4_72n = 0\n",
    "\n",
    "\n",
    "neurons = [4,12,16,24,32,46,72]\n",
    "Nets = [Net4_4n, Net4_12n, Net4_16n, Net4_24n, Net4_32n, Net4_46n, Net4_72n]\n",
    "\n",
    "for i in range(len(Nets)):\n",
    "    \n",
    "    #Creating the Neural Networks with the different numbers of neurons ... \n",
    "    \n",
    "    Nets[i]= NeuralNetwork(input_dim, neurons[i], output_dim, mean = [0,0,0,0],\\\n",
    "                         std = [1/28, 1/np.sqrt(8), 1/28, 1/np.sqrt(8)], weights_init = True)\n"
   ]
  },
  {
   "cell_type": "code",
   "execution_count": 33,
   "metadata": {
    "scrolled": true
   },
   "outputs": [
    {
     "name": "stdout",
     "output_type": "stream",
     "text": [
      "This iteration is for a NN with 4 neurons\n",
      "Epoch [20/80], Loss: 0.2459\n",
      "Epoch [40/80], Loss: 0.2370\n",
      "Epoch [60/80], Loss: 0.2162\n",
      "Epoch [80/80], Loss: 0.1789\n",
      "Epoch [80/80] completed, Loss: 0.1789\n",
      "This iteration is for a NN with 12 neurons\n",
      "Epoch [20/80], Loss: 0.1088\n",
      "Epoch [40/80], Loss: 0.0644\n",
      "Epoch [60/80], Loss: 0.0522\n",
      "Epoch [80/80], Loss: 0.0475\n",
      "Epoch [80/80] completed, Loss: 0.0475\n",
      "This iteration is for a NN with 16 neurons\n",
      "Epoch [20/80], Loss: 0.1430\n",
      "Epoch [40/80], Loss: 0.0858\n",
      "Epoch [60/80], Loss: 0.0625\n",
      "Epoch [80/80], Loss: 0.0530\n",
      "Epoch [80/80] completed, Loss: 0.0530\n",
      "This iteration is for a NN with 24 neurons\n",
      "Epoch [20/80], Loss: 0.2226\n",
      "Epoch [40/80], Loss: 0.1944\n",
      "Epoch [60/80], Loss: 0.1510\n",
      "Epoch [80/80], Loss: 0.1040\n",
      "Epoch [80/80] completed, Loss: 0.1040\n",
      "This iteration is for a NN with 32 neurons\n",
      "Epoch [20/80], Loss: 0.2139\n",
      "Epoch [40/80], Loss: 0.1554\n",
      "Epoch [60/80], Loss: 0.0959\n",
      "Epoch [80/80], Loss: 0.0694\n",
      "Epoch [80/80] completed, Loss: 0.0694\n",
      "This iteration is for a NN with 46 neurons\n",
      "Epoch [20/80], Loss: 0.2532\n",
      "Epoch [40/80], Loss: 0.2467\n",
      "Epoch [60/80], Loss: 0.2400\n",
      "Epoch [80/80], Loss: 0.2286\n",
      "Epoch [80/80] completed, Loss: 0.2286\n",
      "This iteration is for a NN with 72 neurons\n",
      "Epoch [20/80], Loss: 0.2730\n",
      "Epoch [40/80], Loss: 0.2633\n",
      "Epoch [60/80], Loss: 0.2559\n",
      "Epoch [80/80], Loss: 0.2465\n",
      "Epoch [80/80] completed, Loss: 0.2465\n"
     ]
    }
   ],
   "source": [
    "for i in range(len(Nets)):\n",
    "    \n",
    "    print('This iteration is for a NN with {n} neurons'.format(n = neurons[i]))\n",
    "\n",
    "    Nets[i],_,_,_,_= train(inputs, targets, network = Nets[i], \\\n",
    "                    optimiser = optim.SGD, loss_function = nn.MSELoss(), print_output = 20)"
   ]
  },
  {
   "cell_type": "markdown",
   "metadata": {},
   "source": [
    "#### Accuracy of Model 4 - Custom Hidden Neuron Dims ..."
   ]
  },
  {
   "cell_type": "code",
   "execution_count": 34,
   "metadata": {},
   "outputs": [
    {
     "name": "stdout",
     "output_type": "stream",
     "text": [
      "With 4 neurons, the classification accuracy for the training set is 90.234375 %.\n",
      "With 12 neurons, the classification accuracy for the training set is 97.0703125 %.\n",
      "With 16 neurons, the classification accuracy for the training set is 96.484375 %.\n",
      "With 24 neurons, the classification accuracy for the training set is 91.796875 %.\n",
      "With 32 neurons, the classification accuracy for the training set is 94.53125 %.\n",
      "With 46 neurons, the classification accuracy for the training set is 64.2578125 %.\n",
      "With 72 neurons, the classification accuracy for the training set is 53.7109375 %.\n"
     ]
    }
   ],
   "source": [
    "Net4_train_acc = []\n",
    "for i in range(len(Nets)):\n",
    "    predictions = Nets[i](train_x.float())\n",
    "    predictions = np.where(predictions > 0.5, 1,0)\n",
    "    true_labels = train_y.numpy()\n",
    "    acc = 100 * classification_accuracy(true_labels, predictions)\n",
    "    Net4_train_acc.append(acc)\n",
    "    \n",
    "    print(\"With {n} neurons, the classification accuracy for the training set is {p} %.\".format(n = neurons[i],p = 100 * \\\n",
    "        classification_accuracy(true_labels, predictions)))"
   ]
  },
  {
   "cell_type": "code",
   "execution_count": 35,
   "metadata": {},
   "outputs": [
    {
     "name": "stdout",
     "output_type": "stream",
     "text": [
      "With 4 neurons, the classification accuracy for the test set is 87.5 %.\n",
      "With 12 neurons, the classification accuracy for the test set is 93.75 %.\n",
      "With 16 neurons, the classification accuracy for the test set is 94.53125 %.\n",
      "With 24 neurons, the classification accuracy for the test set is 89.0625 %.\n",
      "With 32 neurons, the classification accuracy for the test set is 92.96875 %.\n",
      "With 46 neurons, the classification accuracy for the test set is 66.40625 %.\n",
      "With 72 neurons, the classification accuracy for the test set is 51.5625 %.\n"
     ]
    }
   ],
   "source": [
    "Net4_test_acc = []\n",
    "for i in range(len(Nets)):\n",
    "    predictions = Nets[i](test_x.float())\n",
    "    predictions = np.where(predictions > 0.5, 1,0)\n",
    "    true_labels = test_y.numpy()\n",
    "    acc = 100 * classification_accuracy(true_labels, predictions)\n",
    "    Net4_test_acc.append(acc)\n",
    "    \n",
    "    print(\"With {n} neurons, the classification accuracy for the test set is {p} %.\".format(n = neurons[i],p = 100 * \\\n",
    "        classification_accuracy(true_labels, predictions)))\n",
    "    "
   ]
  },
  {
   "cell_type": "markdown",
   "metadata": {},
   "source": [
    "I have tested 7 different values for the number of neurons in the hidden layer of the Neural Network. Lets plot the accuracy and see the best number of neurons."
   ]
  },
  {
   "cell_type": "code",
   "execution_count": 36,
   "metadata": {},
   "outputs": [],
   "source": [
    "def test_train_acc_visualise_1(train_acc, test_acc, x_values):\n",
    "    plot_fontsize = 14\n",
    "    plt.plot(x_values, train_acc, label = 'Training Accuracy', c = 'k')\n",
    "    plt.plot(x_values, test_acc, label = 'Test Accuracy', c = 'red')\n",
    "    plt.xlabel('Neurons in the Hidden Layer', fontsize = plot_fontsize)\n",
    "    plt.ylabel('Accuracy', fontsize = plot_fontsize)\n",
    "    #plt.title('N(0,1) initialised weights, 1 Hidden Layer, 8 Neurons')\n",
    "    plt.legend(loc = 'best', fontsize = plot_fontsize)\n",
    "    plt.show()"
   ]
  },
  {
   "cell_type": "code",
   "execution_count": 37,
   "metadata": {},
   "outputs": [
    {
     "data": {
      "image/png": "[encoded data removed]",
      "text/plain": [
       "<Figure size 432x288 with 1 Axes>"
      ]
     },
     "metadata": {
      "needs_background": "light"
     },
     "output_type": "display_data"
    }
   ],
   "source": [
    "test_train_acc_visualise_1(Net4_train_acc,Net4_test_acc, neurons)"
   ]
  },
  {
   "cell_type": "markdown",
   "metadata": {},
   "source": [
    "As we can see from the graph above, the accuracy peaks between 10-20 neurons in the hidden layer. After 32 layers, the performance very quickly tails off, to the point that the accuracy is even less than Net1."
   ]
  }
 ],
 "metadata": {
  "kernelspec": {
   "display_name": "Python 3",
   "language": "python",
   "name": "python3"
  },
  "language_info": {
   "codemirror_mode": {
    "name": "ipython",
    "version": 3
   },
   "file_extension": ".py",
   "mimetype": "text/x-python",
   "name": "python",
   "nbconvert_exporter": "python",
   "pygments_lexer": "ipython3",
   "version": "3.8.5"
  }
 },
 "nbformat": 4,
 "nbformat_minor": 5
}
